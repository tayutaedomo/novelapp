{
 "nbformat": 4,
 "nbformat_minor": 0,
 "metadata": {
  "colab": {
   "name": "model_7_cate-2_dgen-2.ipynb",
   "provenance": [],
   "collapsed_sections": [],
   "mount_file_id": "1Yc_yqOw56jCzGvEq43QLfiy3lUW0-qwd",
   "authorship_tag": "ABX9TyMkuhsubzLMgMqDCKzMkNRj"
  },
  "kernelspec": {
   "name": "python3",
   "display_name": "Python 3"
  },
  "accelerator": "GPU"
 },
 "cells": [
  {
   "cell_type": "code",
   "metadata": {
    "id": "LAWhMo_sWQNv",
    "colab_type": "code",
    "colab": {}
   },
   "source": [
    "import os\n",
    "import re\n",
    "import datetime\n",
    "import numpy as np\n",
    "from PIL import Image\n",
    "from glob import glob\n",
    "import pandas as pd\n",
    "import matplotlib.pyplot as plt"
   ],
   "execution_count": 0,
   "outputs": []
  },
  {
   "cell_type": "code",
   "metadata": {
    "id": "i4Odq78AgVKc",
    "colab_type": "code",
    "colab": {}
   },
   "source": [
    "def prepae_data():\n",
    "    x, t = [], []\n",
    "\n",
    "    categorized_dir_paths = glob('/content/drive/My Drive/kikagaku/novelapp/data/images/categorized-2/*')\n",
    "\n",
    "    for dir_path in categorized_dir_paths:\n",
    "        category_id = os.path.basename(dir_path)\n",
    "        image_paths = glob(os.path.join(dir_path, '*'))\n",
    "        print(datetime.datetime.now().isoformat(), 'Category', category_id, ':', len(image_paths))\n",
    "\n",
    "        for i, p in enumerate(image_paths):\n",
    "            book_id = re.sub(r'(_.*$)', '', os.path.basename(p))\n",
    "\n",
    "            if i % 30 == 0:\n",
    "                print(datetime.datetime.now().isoformat(), 'Image:', i, book_id, category_id)\n",
    "\n",
    "            try:\n",
    "                img = Image.open(p)\n",
    "                img_resize = img.resize((229, 229))\n",
    "                img_np = np.array(img_resize) / 255.0\n",
    "                img_reshape = img_np.reshape(1, 229, 229, 3)\n",
    "                #print(datetime.datetime.now().isoformat(), img_np.shape, img_reshape.shape)\n",
    "\n",
    "                x.append(img_np)\n",
    "                t.append(category_id)\n",
    "\n",
    "            except Exception as e:\n",
    "                print(datetime.datetime.now().isoformat(), 'Error:', e)\n",
    "\n",
    "    return x, t"
   ],
   "execution_count": 0,
   "outputs": []
  },
  {
   "cell_type": "code",
   "metadata": {
    "id": "hEfQ6PXVwA5S",
    "colab_type": "code",
    "outputId": "2f35184f-344a-48ef-a7d0-3098caae329e",
    "executionInfo": {
     "status": "ok",
     "timestamp": 1591268066434,
     "user_tz": -540,
     "elapsed": 320395,
     "user": {
      "displayName": "Noboru Koike",
      "photoUrl": "https://lh3.googleusercontent.com/a-/AOh14Ggp8njUb4jc54JrzfM5cQBkfiCdlz6nY17y8-1szg=s64",
      "userId": "05156582812995850159"
     }
    },
    "colab": {
     "base_uri": "https://localhost:8080/",
     "height": 366
    }
   },
   "source": [
    "x, t = prepae_data()"
   ],
   "execution_count": 3,
   "outputs": [
    {
     "output_type": "stream",
     "text": [
      "2020-06-04T10:49:09.823801 Category 0 : 117\n",
      "2020-06-04T10:49:09.824669 Image: 0 1015 0\n",
      "2020-06-04T10:49:29.119065 Image: 30 1228 0\n",
      "2020-06-04T10:49:48.157162 Image: 60 1106 0\n",
      "2020-06-04T10:50:07.354595 Image: 90 1129 0\n",
      "2020-06-04T10:50:25.121162 Category 1 : 119\n",
      "2020-06-04T10:50:25.122169 Image: 0 3636 1\n",
      "2020-06-04T10:50:45.656206 Image: 30 3722 1\n",
      "2020-06-04T10:51:04.875814 Image: 60 3832 1\n",
      "2020-06-04T10:51:24.007436 Image: 90 3777 1\n",
      "2020-06-04T10:51:42.342429 Category 2 : 129\n",
      "2020-06-04T10:51:42.343890 Image: 0 3601 2\n",
      "2020-06-04T10:52:02.767857 Image: 30 3884 2\n",
      "2020-06-04T10:52:22.374688 Image: 60 3778 2\n",
      "2020-06-04T10:52:41.292972 Image: 90 3853 2\n",
      "2020-06-04T10:53:00.846711 Image: 120 1502 2\n",
      "2020-06-04T10:53:06.779425 Category 3 : 111\n",
      "2020-06-04T10:53:06.780403 Image: 0 3312 3\n",
      "2020-06-04T10:53:28.086448 Image: 30 2350 3\n",
      "2020-06-04T10:53:50.225487 Image: 60 3010 3\n",
      "2020-06-04T10:54:10.894066 Image: 90 3105 3\n"
     ],
     "name": "stdout"
    }
   ]
  },
  {
   "cell_type": "code",
   "metadata": {
    "id": "Ej6kOYm3wsk8",
    "colab_type": "code",
    "outputId": "4cccbb4a-47b0-4427-fa56-36f5a7f537ff",
    "executionInfo": {
     "status": "ok",
     "timestamp": 1591268078705,
     "user_tz": -540,
     "elapsed": 1342,
     "user": {
      "displayName": "Noboru Koike",
      "photoUrl": "https://lh3.googleusercontent.com/a-/AOh14Ggp8njUb4jc54JrzfM5cQBkfiCdlz6nY17y8-1szg=s64",
      "userId": "05156582812995850159"
     }
    },
    "colab": {
     "base_uri": "https://localhost:8080/",
     "height": 33
    }
   },
   "source": [
    "x = np.array(x).astype('f')\n",
    "t = np.array(t).astype('f')\n",
    "print(x.shape, t.shape)"
   ],
   "execution_count": 4,
   "outputs": [
    {
     "output_type": "stream",
     "text": [
      "(476, 229, 229, 3) (476,)\n"
     ],
     "name": "stdout"
    }
   ]
  },
  {
   "cell_type": "code",
   "metadata": {
    "id": "ldrohsi0wjHA",
    "colab_type": "code",
    "colab": {}
   },
   "source": [
    "import tensorflow as tf\n",
    "from tensorflow import keras"
   ],
   "execution_count": 0,
   "outputs": []
  },
  {
   "cell_type": "code",
   "metadata": {
    "id": "yeWRkxD-wu2R",
    "colab_type": "code",
    "colab": {}
   },
   "source": [
    "from sklearn.model_selection import train_test_split\n",
    "x_train, x_val, t_train, t_val = train_test_split(x, t, test_size=0.3, random_state=0)"
   ],
   "execution_count": 0,
   "outputs": []
  },
  {
   "cell_type": "code",
   "metadata": {
    "id": "8Fl6lFyMzbXD",
    "colab_type": "code",
    "outputId": "61f568e4-12c0-48e7-c563-3124c40a30c3",
    "executionInfo": {
     "status": "ok",
     "timestamp": 1591268086538,
     "user_tz": -540,
     "elapsed": 907,
     "user": {
      "displayName": "Noboru Koike",
      "photoUrl": "https://lh3.googleusercontent.com/a-/AOh14Ggp8njUb4jc54JrzfM5cQBkfiCdlz6nY17y8-1szg=s64",
      "userId": "05156582812995850159"
     }
    },
    "colab": {
     "base_uri": "https://localhost:8080/",
     "height": 33
    }
   },
   "source": [
    "print(x_train.shape, x_val.shape)"
   ],
   "execution_count": 7,
   "outputs": [
    {
     "output_type": "stream",
     "text": [
      "(333, 229, 229, 3) (143, 229, 229, 3)\n"
     ],
     "name": "stdout"
    }
   ]
  },
  {
   "cell_type": "code",
   "metadata": {
    "id": "uNBNGMjJxC58",
    "colab_type": "code",
    "colab": {}
   },
   "source": [
    "import os\n",
    "import random\n",
    "\n",
    "def reset_seed(seed=0):\n",
    "\n",
    "    os.environ['PYTHONHASHSEED'] = '0'\n",
    "    random.seed(seed)\n",
    "    np.random.seed(seed)\n",
    "    tf.random.set_seed(seed)"
   ],
   "execution_count": 0,
   "outputs": []
  },
  {
   "cell_type": "code",
   "metadata": {
    "id": "hkgl91QRRTld",
    "colab_type": "code",
    "colab": {}
   },
   "source": [
    "reset_seed(0)"
   ],
   "execution_count": 0,
   "outputs": []
  },
  {
   "cell_type": "code",
   "metadata": {
    "id": "9t2trZiRaIzE",
    "colab_type": "code",
    "outputId": "43d11c62-7139-4028-e2a0-0f03338dc970",
    "executionInfo": {
     "status": "ok",
     "timestamp": 1591268099596,
     "user_tz": -540,
     "elapsed": 1029,
     "user": {
      "displayName": "Noboru Koike",
      "photoUrl": "https://lh3.googleusercontent.com/a-/AOh14Ggp8njUb4jc54JrzfM5cQBkfiCdlz6nY17y8-1szg=s64",
      "userId": "05156582812995850159"
     }
    },
    "colab": {
     "base_uri": "https://localhost:8080/",
     "height": 50
    }
   },
   "source": [
    "category_count = len(np.unique(t))\n",
    "print(np.unique(t))\n",
    "print(category_count)"
   ],
   "execution_count": 10,
   "outputs": [
    {
     "output_type": "stream",
     "text": [
      "[0. 1. 2. 3.]\n",
      "4\n"
     ],
     "name": "stdout"
    }
   ]
  },
  {
   "cell_type": "code",
   "metadata": {
    "id": "QUuUBvxh6oIq",
    "colab_type": "code",
    "colab": {}
   },
   "source": [
    "from tensorflow.keras import models, layers\n",
    "from tensorflow.keras.applications import Xception"
   ],
   "execution_count": 0,
   "outputs": []
  },
  {
   "cell_type": "code",
   "metadata": {
    "id": "I_ONFUp0Rg_S",
    "colab_type": "code",
    "colab": {}
   },
   "source": [
    "from tensorflow.keras.preprocessing.image import ImageDataGenerator\n",
    "\n",
    "datagen = ImageDataGenerator(\n",
    "    rotation_range=180,     # randomly rotate images in the range\n",
    "    zoom_range=0.1,         # randomly zoom image\n",
    "    width_shift_range=0.1,  # randomly shift images horizontally\n",
    "    height_shift_range=0.1, # randomly shift images vertically\n",
    "    horizontal_flip=True,   # randomly flip images horizontally\n",
    "    vertical_flip=True      # randomly flip images vertically\n",
    ")\n",
    "\n",
    "datagen.fit(x_train)"
   ],
   "execution_count": 0,
   "outputs": []
  },
  {
   "cell_type": "code",
   "metadata": {
    "id": "ZUCor4hiwzp9",
    "colab_type": "code",
    "outputId": "0f51267a-a5e5-45ff-9c85-de049dcbbda9",
    "executionInfo": {
     "status": "ok",
     "timestamp": 1591279007281,
     "user_tz": -540,
     "elapsed": 5616,
     "user": {
      "displayName": "Noboru Koike",
      "photoUrl": "https://lh3.googleusercontent.com/a-/AOh14Ggp8njUb4jc54JrzfM5cQBkfiCdlz6nY17y8-1szg=s64",
      "userId": "05156582812995850159"
     }
    },
    "colab": {
     "base_uri": "https://localhost:8080/",
     "height": 350
    }
   },
   "source": [
    "model_fine = Xception(include_top=False, weights='imagenet', input_shape=x_train.shape[1:])\n",
    "\n",
    "for layer in model_fine.layers[:110]:\n",
    "    layer.trainable = False\n",
    "\n",
    "\n",
    "model = models.Sequential()\n",
    "model.add(model_fine)\n",
    "\n",
    "model.add(layers.Flatten())\n",
    "\n",
    "model.add(layers.BatchNormalization())\n",
    "#model.add(layers.Dense(50, activation='relu'))\n",
    "#model.add(layers.Dense(20, activation='relu'))\n",
    "model.add(layers.Dense(4096, activation='relu'))\n",
    "#model.add(layers.Dense(64, activation='relu'))\n",
    "model.add(layers.Dropout(0.5))\n",
    "model.add(layers.Dense(category_count, activation='softmax'))\n",
    "\n",
    "#optimizer = keras.optimizers.Adagrad(lr=0.001)\n",
    "#optimizer = keras.optimizers.Adam(lr=0.001)\n",
    "optimizer = keras.optimizers.SGD(lr=0.005)\n",
    "\n",
    "model.compile(loss='sparse_categorical_crossentropy', optimizer=optimizer, metrics=['accuracy'])\n",
    "\n",
    "model.summary()"
   ],
   "execution_count": 49,
   "outputs": [
    {
     "output_type": "stream",
     "text": [
      "Model: \"sequential_6\"\n",
      "_________________________________________________________________\n",
      "Layer (type)                 Output Shape              Param #   \n",
      "=================================================================\n",
      "xception (Model)             (None, 7, 7, 2048)        20861480  \n",
      "_________________________________________________________________\n",
      "flatten_6 (Flatten)          (None, 100352)            0         \n",
      "_________________________________________________________________\n",
      "batch_normalization_34 (Batc (None, 100352)            401408    \n",
      "_________________________________________________________________\n",
      "dense_12 (Dense)             (None, 4096)              411045888 \n",
      "_________________________________________________________________\n",
      "dropout_4 (Dropout)          (None, 4096)              0         \n",
      "_________________________________________________________________\n",
      "dense_13 (Dense)             (None, 4)                 16388     \n",
      "=================================================================\n",
      "Total params: 432,325,164\n",
      "Trainable params: 419,127,348\n",
      "Non-trainable params: 13,197,816\n",
      "_________________________________________________________________\n"
     ],
     "name": "stdout"
    }
   ]
  },
  {
   "cell_type": "code",
   "metadata": {
    "id": "nw-RoqG_xVE-",
    "colab_type": "code",
    "outputId": "843f43e6-08e3-4d61-d459-71ef4cc442ea",
    "executionInfo": {
     "status": "ok",
     "timestamp": 1591280890893,
     "user_tz": -540,
     "elapsed": 797768,
     "user": {
      "displayName": "Noboru Koike",
      "photoUrl": "https://lh3.googleusercontent.com/a-/AOh14Ggp8njUb4jc54JrzfM5cQBkfiCdlz6nY17y8-1szg=s64",
      "userId": "05156582812995850159"
     }
    },
    "colab": {
     "base_uri": "https://localhost:8080/",
     "height": 1000
    }
   },
   "source": [
    "print(datetime.datetime.now().isoformat(), 'Start')\n",
    "\n",
    "history = model.fit_generator(\n",
    "    datagen.flow(x_train, t_train, batch_size=32),\n",
    "    epochs=100,\n",
    "    verbose=2,\n",
    "    validation_data=(x_val, t_val),\n",
    "    #steps_per_epoch=x_train.shape[0]\n",
    ")\n",
    "\n",
    "print(datetime.datetime.now().isoformat(), 'End')"
   ],
   "execution_count": 52,
   "outputs": [
    {
     "output_type": "stream",
     "text": [
      "2020-06-04T14:14:53.466569 Start\n",
      "Epoch 1/100\n",
      "11/11 - 7s - loss: 0.1936 - accuracy: 0.9429 - val_loss: 2.3774 - val_accuracy: 0.4825\n",
      "Epoch 2/100\n",
      "11/11 - 7s - loss: 0.1440 - accuracy: 0.9580 - val_loss: 2.3796 - val_accuracy: 0.4825\n",
      "Epoch 3/100\n",
      "11/11 - 7s - loss: 0.1693 - accuracy: 0.9369 - val_loss: 2.2994 - val_accuracy: 0.4755\n",
      "Epoch 4/100\n",
      "11/11 - 7s - loss: 0.1922 - accuracy: 0.9399 - val_loss: 2.3114 - val_accuracy: 0.4545\n",
      "Epoch 5/100\n",
      "11/11 - 7s - loss: 0.1676 - accuracy: 0.9369 - val_loss: 2.3468 - val_accuracy: 0.4825\n",
      "Epoch 6/100\n",
      "11/11 - 7s - loss: 0.1099 - accuracy: 0.9670 - val_loss: 2.3171 - val_accuracy: 0.4615\n",
      "Epoch 7/100\n",
      "11/11 - 7s - loss: 0.1668 - accuracy: 0.9399 - val_loss: 2.3657 - val_accuracy: 0.4476\n",
      "Epoch 8/100\n",
      "11/11 - 7s - loss: 0.1842 - accuracy: 0.9309 - val_loss: 2.4106 - val_accuracy: 0.4406\n",
      "Epoch 9/100\n",
      "11/11 - 7s - loss: 0.1163 - accuracy: 0.9550 - val_loss: 2.3179 - val_accuracy: 0.4545\n",
      "Epoch 10/100\n",
      "11/11 - 7s - loss: 0.1330 - accuracy: 0.9580 - val_loss: 2.4261 - val_accuracy: 0.4685\n",
      "Epoch 11/100\n",
      "11/11 - 7s - loss: 0.1248 - accuracy: 0.9489 - val_loss: 2.3423 - val_accuracy: 0.4755\n",
      "Epoch 12/100\n",
      "11/11 - 7s - loss: 0.1198 - accuracy: 0.9640 - val_loss: 2.3506 - val_accuracy: 0.5035\n",
      "Epoch 13/100\n",
      "11/11 - 7s - loss: 0.1477 - accuracy: 0.9369 - val_loss: 2.4473 - val_accuracy: 0.4895\n",
      "Epoch 14/100\n",
      "11/11 - 7s - loss: 0.1242 - accuracy: 0.9610 - val_loss: 2.4170 - val_accuracy: 0.4895\n",
      "Epoch 15/100\n",
      "11/11 - 7s - loss: 0.1585 - accuracy: 0.9459 - val_loss: 2.4252 - val_accuracy: 0.4685\n",
      "Epoch 16/100\n",
      "11/11 - 7s - loss: 0.0996 - accuracy: 0.9730 - val_loss: 2.3596 - val_accuracy: 0.4615\n",
      "Epoch 17/100\n",
      "11/11 - 7s - loss: 0.1651 - accuracy: 0.9459 - val_loss: 2.3358 - val_accuracy: 0.4755\n",
      "Epoch 18/100\n",
      "11/11 - 7s - loss: 0.1782 - accuracy: 0.9489 - val_loss: 2.3793 - val_accuracy: 0.5175\n",
      "Epoch 19/100\n",
      "11/11 - 7s - loss: 0.2006 - accuracy: 0.9399 - val_loss: 2.3024 - val_accuracy: 0.4965\n",
      "Epoch 20/100\n",
      "11/11 - 7s - loss: 0.0932 - accuracy: 0.9670 - val_loss: 2.3840 - val_accuracy: 0.4685\n",
      "Epoch 21/100\n",
      "11/11 - 7s - loss: 0.1118 - accuracy: 0.9520 - val_loss: 2.3948 - val_accuracy: 0.4685\n",
      "Epoch 22/100\n",
      "11/11 - 7s - loss: 0.1347 - accuracy: 0.9459 - val_loss: 2.4287 - val_accuracy: 0.4755\n",
      "Epoch 23/100\n",
      "11/11 - 7s - loss: 0.1082 - accuracy: 0.9640 - val_loss: 2.4892 - val_accuracy: 0.4755\n",
      "Epoch 24/100\n",
      "11/11 - 7s - loss: 0.1718 - accuracy: 0.9399 - val_loss: 2.4465 - val_accuracy: 0.4825\n",
      "Epoch 25/100\n",
      "11/11 - 7s - loss: 0.0644 - accuracy: 0.9760 - val_loss: 2.4383 - val_accuracy: 0.5175\n",
      "Epoch 26/100\n",
      "11/11 - 7s - loss: 0.1186 - accuracy: 0.9730 - val_loss: 2.4648 - val_accuracy: 0.4895\n",
      "Epoch 27/100\n",
      "11/11 - 7s - loss: 0.1024 - accuracy: 0.9640 - val_loss: 2.3961 - val_accuracy: 0.4895\n",
      "Epoch 28/100\n",
      "11/11 - 7s - loss: 0.1672 - accuracy: 0.9339 - val_loss: 2.4505 - val_accuracy: 0.5035\n",
      "Epoch 29/100\n",
      "11/11 - 7s - loss: 0.1050 - accuracy: 0.9670 - val_loss: 2.4445 - val_accuracy: 0.4965\n",
      "Epoch 30/100\n",
      "11/11 - 7s - loss: 0.1207 - accuracy: 0.9580 - val_loss: 2.4423 - val_accuracy: 0.4615\n",
      "Epoch 31/100\n",
      "11/11 - 7s - loss: 0.0638 - accuracy: 0.9760 - val_loss: 2.4262 - val_accuracy: 0.4825\n",
      "Epoch 32/100\n",
      "11/11 - 7s - loss: 0.1054 - accuracy: 0.9640 - val_loss: 2.4810 - val_accuracy: 0.4825\n",
      "Epoch 33/100\n",
      "11/11 - 7s - loss: 0.1030 - accuracy: 0.9700 - val_loss: 2.4557 - val_accuracy: 0.4545\n",
      "Epoch 34/100\n",
      "11/11 - 7s - loss: 0.1384 - accuracy: 0.9489 - val_loss: 2.3442 - val_accuracy: 0.4965\n",
      "Epoch 35/100\n",
      "11/11 - 7s - loss: 0.1062 - accuracy: 0.9640 - val_loss: 2.3074 - val_accuracy: 0.4965\n",
      "Epoch 36/100\n",
      "11/11 - 7s - loss: 0.0830 - accuracy: 0.9730 - val_loss: 2.3403 - val_accuracy: 0.4825\n",
      "Epoch 37/100\n",
      "11/11 - 7s - loss: 0.0848 - accuracy: 0.9760 - val_loss: 2.4362 - val_accuracy: 0.5105\n",
      "Epoch 38/100\n",
      "11/11 - 7s - loss: 0.0954 - accuracy: 0.9640 - val_loss: 2.3221 - val_accuracy: 0.4965\n",
      "Epoch 39/100\n",
      "11/11 - 7s - loss: 0.1038 - accuracy: 0.9580 - val_loss: 2.3578 - val_accuracy: 0.4825\n",
      "Epoch 40/100\n",
      "11/11 - 7s - loss: 0.0616 - accuracy: 0.9850 - val_loss: 2.3991 - val_accuracy: 0.4825\n",
      "Epoch 41/100\n",
      "11/11 - 7s - loss: 0.0983 - accuracy: 0.9580 - val_loss: 2.4013 - val_accuracy: 0.5035\n",
      "Epoch 42/100\n",
      "11/11 - 7s - loss: 0.1063 - accuracy: 0.9670 - val_loss: 2.4210 - val_accuracy: 0.4825\n",
      "Epoch 43/100\n",
      "11/11 - 7s - loss: 0.0983 - accuracy: 0.9610 - val_loss: 2.4313 - val_accuracy: 0.5035\n",
      "Epoch 44/100\n",
      "11/11 - 7s - loss: 0.0738 - accuracy: 0.9760 - val_loss: 2.4879 - val_accuracy: 0.5035\n",
      "Epoch 45/100\n",
      "11/11 - 7s - loss: 0.0722 - accuracy: 0.9820 - val_loss: 2.6250 - val_accuracy: 0.5245\n",
      "Epoch 46/100\n",
      "11/11 - 7s - loss: 0.0765 - accuracy: 0.9670 - val_loss: 2.7002 - val_accuracy: 0.5105\n",
      "Epoch 47/100\n",
      "11/11 - 7s - loss: 0.0853 - accuracy: 0.9670 - val_loss: 2.7215 - val_accuracy: 0.4755\n",
      "Epoch 48/100\n",
      "11/11 - 7s - loss: 0.0877 - accuracy: 0.9640 - val_loss: 2.6378 - val_accuracy: 0.5245\n",
      "Epoch 49/100\n",
      "11/11 - 7s - loss: 0.0943 - accuracy: 0.9730 - val_loss: 2.6583 - val_accuracy: 0.5175\n",
      "Epoch 50/100\n",
      "11/11 - 7s - loss: 0.0583 - accuracy: 0.9760 - val_loss: 2.7063 - val_accuracy: 0.5035\n",
      "Epoch 51/100\n",
      "11/11 - 7s - loss: 0.0798 - accuracy: 0.9790 - val_loss: 2.6275 - val_accuracy: 0.4965\n",
      "Epoch 52/100\n",
      "11/11 - 7s - loss: 0.0516 - accuracy: 0.9790 - val_loss: 2.5853 - val_accuracy: 0.4895\n",
      "Epoch 53/100\n",
      "11/11 - 7s - loss: 0.1113 - accuracy: 0.9670 - val_loss: 2.6729 - val_accuracy: 0.4825\n",
      "Epoch 54/100\n",
      "11/11 - 7s - loss: 0.0847 - accuracy: 0.9610 - val_loss: 2.6230 - val_accuracy: 0.4895\n",
      "Epoch 55/100\n",
      "11/11 - 7s - loss: 0.1117 - accuracy: 0.9700 - val_loss: 2.6121 - val_accuracy: 0.4895\n",
      "Epoch 56/100\n",
      "11/11 - 7s - loss: 0.1008 - accuracy: 0.9550 - val_loss: 2.5493 - val_accuracy: 0.4895\n",
      "Epoch 57/100\n",
      "11/11 - 7s - loss: 0.0649 - accuracy: 0.9760 - val_loss: 2.5152 - val_accuracy: 0.4895\n",
      "Epoch 58/100\n",
      "11/11 - 7s - loss: 0.0838 - accuracy: 0.9790 - val_loss: 2.5108 - val_accuracy: 0.4825\n",
      "Epoch 59/100\n",
      "11/11 - 7s - loss: 0.0834 - accuracy: 0.9670 - val_loss: 2.5024 - val_accuracy: 0.4825\n",
      "Epoch 60/100\n",
      "11/11 - 7s - loss: 0.1122 - accuracy: 0.9580 - val_loss: 2.5270 - val_accuracy: 0.4615\n",
      "Epoch 61/100\n",
      "11/11 - 7s - loss: 0.0801 - accuracy: 0.9700 - val_loss: 2.5679 - val_accuracy: 0.4615\n",
      "Epoch 62/100\n",
      "11/11 - 7s - loss: 0.0762 - accuracy: 0.9700 - val_loss: 2.7175 - val_accuracy: 0.4895\n",
      "Epoch 63/100\n",
      "11/11 - 7s - loss: 0.0746 - accuracy: 0.9760 - val_loss: 2.4642 - val_accuracy: 0.4755\n",
      "Epoch 64/100\n",
      "11/11 - 7s - loss: 0.0893 - accuracy: 0.9730 - val_loss: 2.4925 - val_accuracy: 0.4895\n",
      "Epoch 65/100\n",
      "11/11 - 7s - loss: 0.0908 - accuracy: 0.9730 - val_loss: 2.5011 - val_accuracy: 0.4895\n",
      "Epoch 66/100\n",
      "11/11 - 7s - loss: 0.0905 - accuracy: 0.9730 - val_loss: 2.5275 - val_accuracy: 0.4965\n",
      "Epoch 67/100\n",
      "11/11 - 7s - loss: 0.0871 - accuracy: 0.9670 - val_loss: 2.5586 - val_accuracy: 0.4965\n",
      "Epoch 68/100\n",
      "11/11 - 7s - loss: 0.0975 - accuracy: 0.9730 - val_loss: 2.5846 - val_accuracy: 0.5035\n",
      "Epoch 69/100\n",
      "11/11 - 7s - loss: 0.0932 - accuracy: 0.9580 - val_loss: 2.6153 - val_accuracy: 0.4755\n",
      "Epoch 70/100\n",
      "11/11 - 7s - loss: 0.0790 - accuracy: 0.9640 - val_loss: 2.5482 - val_accuracy: 0.4895\n",
      "Epoch 71/100\n",
      "11/11 - 7s - loss: 0.0708 - accuracy: 0.9670 - val_loss: 2.5919 - val_accuracy: 0.4685\n",
      "Epoch 72/100\n",
      "11/11 - 7s - loss: 0.1188 - accuracy: 0.9670 - val_loss: 2.5379 - val_accuracy: 0.4965\n",
      "Epoch 73/100\n",
      "11/11 - 7s - loss: 0.0772 - accuracy: 0.9730 - val_loss: 2.5625 - val_accuracy: 0.5035\n",
      "Epoch 74/100\n",
      "11/11 - 7s - loss: 0.0845 - accuracy: 0.9700 - val_loss: 2.4920 - val_accuracy: 0.4895\n",
      "Epoch 75/100\n",
      "11/11 - 7s - loss: 0.0676 - accuracy: 0.9730 - val_loss: 2.4811 - val_accuracy: 0.4965\n",
      "Epoch 76/100\n",
      "11/11 - 7s - loss: 0.1132 - accuracy: 0.9610 - val_loss: 2.6260 - val_accuracy: 0.4825\n",
      "Epoch 77/100\n",
      "11/11 - 7s - loss: 0.0744 - accuracy: 0.9670 - val_loss: 2.6853 - val_accuracy: 0.4615\n",
      "Epoch 78/100\n",
      "11/11 - 7s - loss: 0.0934 - accuracy: 0.9700 - val_loss: 2.6497 - val_accuracy: 0.4685\n",
      "Epoch 79/100\n",
      "11/11 - 7s - loss: 0.1065 - accuracy: 0.9670 - val_loss: 2.6759 - val_accuracy: 0.4615\n",
      "Epoch 80/100\n",
      "11/11 - 7s - loss: 0.0690 - accuracy: 0.9700 - val_loss: 2.6019 - val_accuracy: 0.5035\n",
      "Epoch 81/100\n",
      "11/11 - 7s - loss: 0.1028 - accuracy: 0.9520 - val_loss: 2.5728 - val_accuracy: 0.4895\n",
      "Epoch 82/100\n",
      "11/11 - 7s - loss: 0.0899 - accuracy: 0.9640 - val_loss: 2.4235 - val_accuracy: 0.4965\n",
      "Epoch 83/100\n",
      "11/11 - 7s - loss: 0.0846 - accuracy: 0.9610 - val_loss: 2.4382 - val_accuracy: 0.4965\n",
      "Epoch 84/100\n",
      "11/11 - 7s - loss: 0.0629 - accuracy: 0.9760 - val_loss: 2.4272 - val_accuracy: 0.4895\n",
      "Epoch 85/100\n",
      "11/11 - 7s - loss: 0.0558 - accuracy: 0.9820 - val_loss: 2.4779 - val_accuracy: 0.4895\n",
      "Epoch 86/100\n",
      "11/11 - 7s - loss: 0.0650 - accuracy: 0.9730 - val_loss: 2.6130 - val_accuracy: 0.4895\n",
      "Epoch 87/100\n",
      "11/11 - 7s - loss: 0.0466 - accuracy: 0.9910 - val_loss: 2.5638 - val_accuracy: 0.4685\n",
      "Epoch 88/100\n",
      "11/11 - 7s - loss: 0.0834 - accuracy: 0.9580 - val_loss: 2.5855 - val_accuracy: 0.4336\n",
      "Epoch 89/100\n",
      "11/11 - 7s - loss: 0.0753 - accuracy: 0.9730 - val_loss: 2.5289 - val_accuracy: 0.4476\n",
      "Epoch 90/100\n",
      "11/11 - 7s - loss: 0.0622 - accuracy: 0.9700 - val_loss: 2.5378 - val_accuracy: 0.4685\n",
      "Epoch 91/100\n",
      "11/11 - 7s - loss: 0.0837 - accuracy: 0.9670 - val_loss: 2.5423 - val_accuracy: 0.4755\n",
      "Epoch 92/100\n",
      "11/11 - 7s - loss: 0.0840 - accuracy: 0.9760 - val_loss: 2.5739 - val_accuracy: 0.4615\n",
      "Epoch 93/100\n",
      "11/11 - 7s - loss: 0.0648 - accuracy: 0.9820 - val_loss: 2.6386 - val_accuracy: 0.4545\n",
      "Epoch 94/100\n",
      "11/11 - 7s - loss: 0.0351 - accuracy: 0.9970 - val_loss: 2.5865 - val_accuracy: 0.4545\n",
      "Epoch 95/100\n",
      "11/11 - 7s - loss: 0.0735 - accuracy: 0.9760 - val_loss: 2.6579 - val_accuracy: 0.4615\n",
      "Epoch 96/100\n",
      "11/11 - 7s - loss: 0.0507 - accuracy: 0.9820 - val_loss: 2.6061 - val_accuracy: 0.4615\n",
      "Epoch 97/100\n",
      "11/11 - 7s - loss: 0.0933 - accuracy: 0.9760 - val_loss: 2.5733 - val_accuracy: 0.4545\n",
      "Epoch 98/100\n",
      "11/11 - 7s - loss: 0.0643 - accuracy: 0.9730 - val_loss: 2.5578 - val_accuracy: 0.4545\n",
      "Epoch 99/100\n",
      "11/11 - 7s - loss: 0.0555 - accuracy: 0.9820 - val_loss: 2.5836 - val_accuracy: 0.4755\n",
      "Epoch 100/100\n",
      "11/11 - 7s - loss: 0.0642 - accuracy: 0.9730 - val_loss: 2.6741 - val_accuracy: 0.4755\n",
      "2020-06-04T14:28:10.055058 End\n"
     ],
     "name": "stdout"
    }
   ]
  },
  {
   "cell_type": "code",
   "metadata": {
    "id": "e5t9V1UJnbJ4",
    "colab_type": "code",
    "colab": {
     "base_uri": "https://localhost:8080/",
     "height": 530
    },
    "outputId": "328c3288-a13a-4549-e826-79a5178530d6",
    "executionInfo": {
     "status": "ok",
     "timestamp": 1591280016510,
     "user_tz": -540,
     "elapsed": 1535,
     "user": {
      "displayName": "Noboru Koike",
      "photoUrl": "https://lh3.googleusercontent.com/a-/AOh14Ggp8njUb4jc54JrzfM5cQBkfiCdlz6nY17y8-1szg=s64",
      "userId": "05156582812995850159"
     }
    }
   },
   "source": [
    "results = pd.DataFrame(history.history)\n",
    "results[['loss', 'val_loss']].plot()\n",
    "results[['accuracy', 'val_accuracy']].plot()"
   ],
   "execution_count": 51,
   "outputs": [
    {
     "output_type": "execute_result",
     "data": {
      "text/plain": [
       "<matplotlib.axes._subplots.AxesSubplot at 0x7f2cd10bd7f0>"
      ]
     },
     "metadata": {
      "tags": []
     },
     "execution_count": 51
    },
    {
     "output_type": "display_data",
     "data": {
      "image/png": "[encoded data removed]",
      "text/plain": [
       "<Figure size 432x288 with 1 Axes>"
      ]
     },
     "metadata": {
      "tags": [],
      "needs_background": "light"
     }
    },
    {
     "output_type": "display_data",
     "data": {
      "image/png": "[encoded data removed]",
      "text/plain": [
       "<Figure size 432x288 with 1 Axes>"
      ]
     },
     "metadata": {
      "tags": [],
      "needs_background": "light"
     }
    }
   ]
  },
  {
   "cell_type": "code",
   "metadata": {
    "id": "QS3zi9IhrhYF",
    "colab_type": "code",
    "colab": {
     "base_uri": "https://localhost:8080/",
     "height": 530
    },
    "outputId": "00862ca7-eb2a-4378-f58d-6c4c019a6f55",
    "executionInfo": {
     "status": "ok",
     "timestamp": 1591280957720,
     "user_tz": -540,
     "elapsed": 1943,
     "user": {
      "displayName": "Noboru Koike",
      "photoUrl": "https://lh3.googleusercontent.com/a-/AOh14Ggp8njUb4jc54JrzfM5cQBkfiCdlz6nY17y8-1szg=s64",
      "userId": "05156582812995850159"
     }
    }
   },
   "source": [
    "results = pd.DataFrame(history.history)\n",
    "results[['loss', 'val_loss']].plot()\n",
    "results[['accuracy', 'val_accuracy']].plot()"
   ],
   "execution_count": 53,
   "outputs": [
    {
     "output_type": "execute_result",
     "data": {
      "text/plain": [
       "<matplotlib.axes._subplots.AxesSubplot at 0x7f2cce5cf390>"
      ]
     },
     "metadata": {
      "tags": []
     },
     "execution_count": 53
    },
    {
     "output_type": "display_data",
     "data": {
      "image/png": "[encoded data removed]",
      "text/plain": [
       "<Figure size 432x288 with 1 Axes>"
      ]
     },
     "metadata": {
      "tags": [],
      "needs_background": "light"
     }
    },
    {
     "output_type": "display_data",
     "data": {
      "image/png": "[encoded data removed]",
      "text/plain": [
       "<Figure size 432x288 with 1 Axes>"
      ]
     },
     "metadata": {
      "tags": [],
      "needs_background": "light"
     }
    }
   ]
  },
  {
   "cell_type": "code",
   "metadata": {
    "id": "clKzLm2QvHEV",
    "colab_type": "code",
    "colab": {}
   },
   "source": [
    ""
   ],
   "execution_count": 0,
   "outputs": []
  }
 ]
}