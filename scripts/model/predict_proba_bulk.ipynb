{
 "cells": [
  {
   "cell_type": "markdown",
   "metadata": {},
   "source": [
    "## カテゴリ毎の画像を predict_proba で一括処理してみる"
   ]
  },
  {
   "cell_type": "code",
   "execution_count": 20,
   "metadata": {},
   "outputs": [],
   "source": [
    "import os\n",
    "import datetime\n",
    "import glob\n",
    "import pandas as pd\n",
    "import numpy as np\n",
    "from PIL import Image\n",
    "\n",
    "from tensorflow.keras.models import load_model"
   ]
  },
  {
   "cell_type": "code",
   "execution_count": 3,
   "metadata": {},
   "outputs": [
    {
     "name": "stdout",
     "output_type": "stream",
     "text": [
      "['../../data/images/categorized-2/0', '../../data/images/categorized-2/120', '../../data/images/categorized-2/1', '../../data/images/categorized-2/4', '../../data/images/categorized-2/3', '../../data/images/categorized-2/2']\n"
     ]
    }
   ],
   "source": [
    "img_cat_paths = glob.glob('../../data/images/categorized-2/*')\n",
    "print(img_cat_paths)"
   ]
  },
  {
   "cell_type": "code",
   "execution_count": 4,
   "metadata": {},
   "outputs": [
    {
     "name": "stdout",
     "output_type": "stream",
     "text": [
      "['../../data/images/categorized-2/0/3510_51hrOxCUAPL.jpg', '../../data/images/categorized-2/0/1586_61oaqjd8zjL.jpg', '../../data/images/categorized-2/0/1186_51W3vU8PLTL.jpg', '../../data/images/categorized-2/0/3671_511tzUSH1pL.jpg', '../../data/images/categorized-2/0/3317_514BfQwGaOL.jpg', '../../data/images/categorized-2/0/1189_61qaJjhikHL.jpg', '../../data/images/categorized-2/0/1687_61Aga5lQVzL.jpg', '../../data/images/categorized-2/0/2854_51dI5XisLEL.jpg', '../../data/images/categorized-2/0/3937_5182erE9KLL.jpg', '../../data/images/categorized-2/0/2349_61tkmhp+0LL.jpg']\n"
     ]
    }
   ],
   "source": [
    "img_paths = glob.glob(os.path.join(img_cat_paths[0], '*'))\n",
    "print(img_paths[:10])"
   ]
  },
  {
   "cell_type": "code",
   "execution_count": 5,
   "metadata": {},
   "outputs": [
    {
     "name": "stdout",
     "output_type": "stream",
     "text": [
      "(1, 229, 229, 3)\n"
     ]
    }
   ],
   "source": [
    "img = Image.open(img_paths[0])\n",
    "img_resize = img.resize((229, 229))\n",
    "img_np = np.asarray(img_resize) / 255.0\n",
    "x = img_np.reshape(1, 229, 229, 3)\n",
    "print(x.shape)"
   ]
  },
  {
   "cell_type": "code",
   "execution_count": 6,
   "metadata": {},
   "outputs": [],
   "source": [
    "model = load_model('../../data/category-2.h5', compile=False)"
   ]
  },
  {
   "cell_type": "code",
   "execution_count": 9,
   "metadata": {},
   "outputs": [],
   "source": [
    "np.set_printoptions(precision=5, suppress=True)"
   ]
  },
  {
   "cell_type": "code",
   "execution_count": 10,
   "metadata": {},
   "outputs": [
    {
     "name": "stdout",
     "output_type": "stream",
     "text": [
      "2020-06-20T13:34:08.285274 Start\n",
      "2 [[0.00899 0.00001 0.99081 0.0002 ]]\n",
      "2020-06-20T13:34:08.499627 End\n"
     ]
    }
   ],
   "source": [
    "print(datetime.datetime.now().isoformat(), 'Start')\n",
    "\n",
    "y = np.argmax(model.predict(x))\n",
    "y_proba = model.predict_proba(x)\n",
    "#y_proba = np.round((y_proba[0] * 100), 5)\n",
    "print(y, y_proba)\n",
    "\n",
    "print(datetime.datetime.now().isoformat(), 'End')"
   ]
  },
  {
   "cell_type": "code",
   "execution_count": 22,
   "metadata": {},
   "outputs": [
    {
     "name": "stdout",
     "output_type": "stream",
     "text": [
      "(5, 229, 229, 3)\n",
      "['3510', '1586', '1186', '3671', '3317']\n"
     ]
    }
   ],
   "source": [
    "book = []\n",
    "x = []\n",
    "\n",
    "for img_path in img_paths[:5]:\n",
    "    img = Image.open(img_path)\n",
    "    img_resize = img.resize((229, 229))\n",
    "    img_np = np.asarray(img_resize) / 255.0\n",
    "\n",
    "    x.append(img_np)\n",
    "    book.append(os.path.basename(img_path).split('_')[0])\n",
    "\n",
    "x = np.array(x)\n",
    "print(x.shape)\n",
    "print(book)"
   ]
  },
  {
   "cell_type": "code",
   "execution_count": 21,
   "metadata": {},
   "outputs": [
    {
     "name": "stdout",
     "output_type": "stream",
     "text": [
      "2020-06-20T13:52:02.811140 Start\n",
      "[[0.00899 0.00001 0.99081 0.0002 ]\n",
      " [0.00182 0.00163 0.97249 0.02406]\n",
      " [1.      0.      0.      0.     ]\n",
      " [0.99991 0.00001 0.00006 0.00002]\n",
      " [0.00239 0.0305  0.82374 0.14337]]\n",
      "2020-06-20T13:52:03.207702 End\n"
     ]
    }
   ],
   "source": [
    "print(datetime.datetime.now().isoformat(), 'Start')\n",
    "\n",
    "y = model.predict(x)\n",
    "#y_proba = model.predict_proba(x)\n",
    "#y_proba = np.round((y_proba[0] * 100), 5)\n",
    "print(y)\n",
    "#print(y_proba)\n",
    "\n",
    "print(datetime.datetime.now().isoformat(), 'End')"
   ]
  },
  {
   "cell_type": "code",
   "execution_count": null,
   "metadata": {},
   "outputs": [],
   "source": []
  }
 ],
 "metadata": {
  "kernelspec": {
   "display_name": "Python 3",
   "language": "python",
   "name": "python3"
  },
  "language_info": {
   "codemirror_mode": {
    "name": "ipython",
    "version": 3
   },
   "file_extension": ".py",
   "mimetype": "text/x-python",
   "name": "python",
   "nbconvert_exporter": "python",
   "pygments_lexer": "ipython3",
   "version": "3.7.4"
  }
 },
 "nbformat": 4,
 "nbformat_minor": 4
}
