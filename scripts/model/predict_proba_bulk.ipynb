{
 "cells": [
  {
   "cell_type": "markdown",
   "metadata": {},
   "source": [
    "## カテゴリ毎の画像を predict_proba で一括処理してみる"
   ]
  },
  {
   "cell_type": "code",
   "execution_count": 1,
   "metadata": {},
   "outputs": [],
   "source": [
    "import os\n",
    "import datetime\n",
    "import glob\n",
    "import pandas as pd\n",
    "import numpy as np\n",
    "from PIL import Image\n",
    "\n",
    "from tensorflow.keras.models import load_model"
   ]
  },
  {
   "cell_type": "code",
   "execution_count": 2,
   "metadata": {},
   "outputs": [
    {
     "name": "stdout",
     "output_type": "stream",
     "text": [
      "['../../data/images/categorized-2/0', '../../data/images/categorized-2/120', '../../data/images/categorized-2/1', '../../data/images/categorized-2/4', '../../data/images/categorized-2/3', '../../data/images/categorized-2/2']\n"
     ]
    }
   ],
   "source": [
    "img_cat_paths = glob.glob('../../data/images/categorized-2/*')\n",
    "print(img_cat_paths)"
   ]
  },
  {
   "cell_type": "code",
   "execution_count": 3,
   "metadata": {},
   "outputs": [
    {
     "name": "stdout",
     "output_type": "stream",
     "text": [
      "['../../data/images/categorized-2/0/3510_51hrOxCUAPL.jpg', '../../data/images/categorized-2/0/1586_61oaqjd8zjL.jpg', '../../data/images/categorized-2/0/1186_51W3vU8PLTL.jpg', '../../data/images/categorized-2/0/3671_511tzUSH1pL.jpg', '../../data/images/categorized-2/0/3317_514BfQwGaOL.jpg', '../../data/images/categorized-2/0/1189_61qaJjhikHL.jpg', '../../data/images/categorized-2/0/1687_61Aga5lQVzL.jpg', '../../data/images/categorized-2/0/2854_51dI5XisLEL.jpg', '../../data/images/categorized-2/0/3937_5182erE9KLL.jpg', '../../data/images/categorized-2/0/2349_61tkmhp+0LL.jpg']\n"
     ]
    }
   ],
   "source": [
    "img_paths = glob.glob(os.path.join(img_cat_paths[0], '*'))\n",
    "print(img_paths[:10])"
   ]
  },
  {
   "cell_type": "code",
   "execution_count": 4,
   "metadata": {},
   "outputs": [
    {
     "name": "stdout",
     "output_type": "stream",
     "text": [
      "(1, 229, 229, 3)\n"
     ]
    }
   ],
   "source": [
    "img = Image.open(img_paths[0])\n",
    "img_resize = img.resize((229, 229))\n",
    "img_np = np.asarray(img_resize) / 255.0\n",
    "x = img_np.reshape(1, 229, 229, 3)\n",
    "print(x.shape)"
   ]
  },
  {
   "cell_type": "code",
   "execution_count": 5,
   "metadata": {},
   "outputs": [],
   "source": [
    "model = load_model('../../data/category-2.h5', compile=False)"
   ]
  },
  {
   "cell_type": "code",
   "execution_count": 6,
   "metadata": {},
   "outputs": [],
   "source": [
    "np.set_printoptions(precision=5, suppress=True)"
   ]
  },
  {
   "cell_type": "code",
   "execution_count": 7,
   "metadata": {},
   "outputs": [
    {
     "name": "stdout",
     "output_type": "stream",
     "text": [
      "2020-06-23T19:08:44.255643 Start\n",
      "2 [[0.00899 0.00001 0.99081 0.0002 ]]\n",
      "2020-06-23T19:08:45.703690 End\n"
     ]
    }
   ],
   "source": [
    "print(datetime.datetime.now().isoformat(), 'Start')\n",
    "\n",
    "y = np.argmax(model.predict(x))\n",
    "y_proba = model.predict_proba(x)\n",
    "#y_proba = np.round((y_proba[0] * 100), 5)\n",
    "print(y, y_proba)\n",
    "\n",
    "print(datetime.datetime.now().isoformat(), 'End')"
   ]
  },
  {
   "cell_type": "code",
   "execution_count": 9,
   "metadata": {},
   "outputs": [
    {
     "name": "stdout",
     "output_type": "stream",
     "text": [
      "2020-06-23T19:10:21.643063 Start\n",
      "2020-06-23T19:10:33.441788 End\n",
      "(1678, 229, 229, 3)\n",
      "1678\n"
     ]
    }
   ],
   "source": [
    "print(datetime.datetime.now().isoformat(), 'Start')\n",
    "\n",
    "book = []\n",
    "x = []\n",
    "\n",
    "#for img_path in img_paths[:5]:\n",
    "for img_path in img_paths:\n",
    "    img = Image.open(img_path)\n",
    "    img_resize = img.resize((229, 229))\n",
    "    img_np = np.asarray(img_resize) / 255.0\n",
    "\n",
    "    x.append(img_np)\n",
    "    book.append(os.path.basename(img_path).split('_')[0])\n",
    "\n",
    "    \n",
    "print(datetime.datetime.now().isoformat(), 'End')\n",
    "\n",
    "x = np.array(x)\n",
    "print(x.shape)\n",
    "print(len(book))"
   ]
  },
  {
   "cell_type": "code",
   "execution_count": 11,
   "metadata": {},
   "outputs": [
    {
     "name": "stdout",
     "output_type": "stream",
     "text": [
      "2020-06-23T19:13:25.212156 Start\n",
      "2020-06-23T19:15:46.944839 End\n"
     ]
    }
   ],
   "source": [
    "print(datetime.datetime.now().isoformat(), 'Start')\n",
    "\n",
    "y = model.predict(x)\n",
    "#y_proba = model.predict_proba(x)\n",
    "#y_proba = np.round((y_proba[0] * 100), 5)\n",
    "#print(y)\n",
    "#print(y_proba)\n",
    "\n",
    "print(datetime.datetime.now().isoformat(), 'End')"
   ]
  },
  {
   "cell_type": "code",
   "execution_count": 12,
   "metadata": {
    "scrolled": true
   },
   "outputs": [
    {
     "data": {
      "text/html": [
       "<div>\n",
       "<style scoped>\n",
       "    .dataframe tbody tr th:only-of-type {\n",
       "        vertical-align: middle;\n",
       "    }\n",
       "\n",
       "    .dataframe tbody tr th {\n",
       "        vertical-align: top;\n",
       "    }\n",
       "\n",
       "    .dataframe thead th {\n",
       "        text-align: right;\n",
       "    }\n",
       "</style>\n",
       "<table border=\"1\" class=\"dataframe\">\n",
       "  <thead>\n",
       "    <tr style=\"text-align: right;\">\n",
       "      <th></th>\n",
       "      <th>0</th>\n",
       "      <th>1</th>\n",
       "      <th>2</th>\n",
       "      <th>3</th>\n",
       "    </tr>\n",
       "  </thead>\n",
       "  <tbody>\n",
       "    <tr>\n",
       "      <th>0</th>\n",
       "      <td>0.008985</td>\n",
       "      <td>6.291282e-06</td>\n",
       "      <td>9.908112e-01</td>\n",
       "      <td>1.971286e-04</td>\n",
       "    </tr>\n",
       "    <tr>\n",
       "      <th>1</th>\n",
       "      <td>0.001824</td>\n",
       "      <td>1.627494e-03</td>\n",
       "      <td>9.724855e-01</td>\n",
       "      <td>2.406249e-02</td>\n",
       "    </tr>\n",
       "    <tr>\n",
       "      <th>2</th>\n",
       "      <td>1.000000</td>\n",
       "      <td>5.512753e-10</td>\n",
       "      <td>1.400836e-09</td>\n",
       "      <td>2.287567e-07</td>\n",
       "    </tr>\n",
       "    <tr>\n",
       "      <th>3</th>\n",
       "      <td>0.999912</td>\n",
       "      <td>6.751578e-06</td>\n",
       "      <td>6.415776e-05</td>\n",
       "      <td>1.699237e-05</td>\n",
       "    </tr>\n",
       "    <tr>\n",
       "      <th>4</th>\n",
       "      <td>0.002394</td>\n",
       "      <td>3.050057e-02</td>\n",
       "      <td>8.237367e-01</td>\n",
       "      <td>1.433683e-01</td>\n",
       "    </tr>\n",
       "  </tbody>\n",
       "</table>\n",
       "</div>"
      ],
      "text/plain": [
       "          0             1             2             3\n",
       "0  0.008985  6.291282e-06  9.908112e-01  1.971286e-04\n",
       "1  0.001824  1.627494e-03  9.724855e-01  2.406249e-02\n",
       "2  1.000000  5.512753e-10  1.400836e-09  2.287567e-07\n",
       "3  0.999912  6.751578e-06  6.415776e-05  1.699237e-05\n",
       "4  0.002394  3.050057e-02  8.237367e-01  1.433683e-01"
      ]
     },
     "execution_count": 12,
     "metadata": {},
     "output_type": "execute_result"
    }
   ],
   "source": [
    "df = pd.DataFrame(y)\n",
    "df.head()"
   ]
  },
  {
   "cell_type": "code",
   "execution_count": 17,
   "metadata": {},
   "outputs": [
    {
     "data": {
      "text/html": [
       "<div>\n",
       "<style scoped>\n",
       "    .dataframe tbody tr th:only-of-type {\n",
       "        vertical-align: middle;\n",
       "    }\n",
       "\n",
       "    .dataframe tbody tr th {\n",
       "        vertical-align: top;\n",
       "    }\n",
       "\n",
       "    .dataframe thead th {\n",
       "        text-align: right;\n",
       "    }\n",
       "</style>\n",
       "<table border=\"1\" class=\"dataframe\">\n",
       "  <thead>\n",
       "    <tr style=\"text-align: right;\">\n",
       "      <th></th>\n",
       "      <th>0</th>\n",
       "      <th>1</th>\n",
       "      <th>2</th>\n",
       "      <th>3</th>\n",
       "      <th>book_id</th>\n",
       "    </tr>\n",
       "  </thead>\n",
       "  <tbody>\n",
       "    <tr>\n",
       "      <th>0</th>\n",
       "      <td>0.008985</td>\n",
       "      <td>6.291282e-06</td>\n",
       "      <td>9.908112e-01</td>\n",
       "      <td>1.971286e-04</td>\n",
       "      <td>3510</td>\n",
       "    </tr>\n",
       "    <tr>\n",
       "      <th>1</th>\n",
       "      <td>0.001824</td>\n",
       "      <td>1.627494e-03</td>\n",
       "      <td>9.724855e-01</td>\n",
       "      <td>2.406249e-02</td>\n",
       "      <td>1586</td>\n",
       "    </tr>\n",
       "    <tr>\n",
       "      <th>2</th>\n",
       "      <td>1.000000</td>\n",
       "      <td>5.512753e-10</td>\n",
       "      <td>1.400836e-09</td>\n",
       "      <td>2.287567e-07</td>\n",
       "      <td>1186</td>\n",
       "    </tr>\n",
       "    <tr>\n",
       "      <th>3</th>\n",
       "      <td>0.999912</td>\n",
       "      <td>6.751578e-06</td>\n",
       "      <td>6.415776e-05</td>\n",
       "      <td>1.699237e-05</td>\n",
       "      <td>3671</td>\n",
       "    </tr>\n",
       "    <tr>\n",
       "      <th>4</th>\n",
       "      <td>0.002394</td>\n",
       "      <td>3.050057e-02</td>\n",
       "      <td>8.237367e-01</td>\n",
       "      <td>1.433683e-01</td>\n",
       "      <td>3317</td>\n",
       "    </tr>\n",
       "  </tbody>\n",
       "</table>\n",
       "</div>"
      ],
      "text/plain": [
       "          0             1             2             3 book_id\n",
       "0  0.008985  6.291282e-06  9.908112e-01  1.971286e-04    3510\n",
       "1  0.001824  1.627494e-03  9.724855e-01  2.406249e-02    1586\n",
       "2  1.000000  5.512753e-10  1.400836e-09  2.287567e-07    1186\n",
       "3  0.999912  6.751578e-06  6.415776e-05  1.699237e-05    3671\n",
       "4  0.002394  3.050057e-02  8.237367e-01  1.433683e-01    3317"
      ]
     },
     "execution_count": 17,
     "metadata": {},
     "output_type": "execute_result"
    }
   ],
   "source": [
    "df = df.join(pd.DataFrame(book, columns=['book_id']))\n",
    "df.head()"
   ]
  },
  {
   "cell_type": "code",
   "execution_count": 19,
   "metadata": {},
   "outputs": [],
   "source": [
    "df.to_csv('../../data/cat2-0_predict_result.csv')"
   ]
  },
  {
   "cell_type": "code",
   "execution_count": 22,
   "metadata": {},
   "outputs": [],
   "source": [
    "#np.set_printoptions(suppress=True)\n",
    "pd.options.display.precision = 10"
   ]
  },
  {
   "cell_type": "code",
   "execution_count": 23,
   "metadata": {},
   "outputs": [
    {
     "data": {
      "text/html": [
       "<div>\n",
       "<style scoped>\n",
       "    .dataframe tbody tr th:only-of-type {\n",
       "        vertical-align: middle;\n",
       "    }\n",
       "\n",
       "    .dataframe tbody tr th {\n",
       "        vertical-align: top;\n",
       "    }\n",
       "\n",
       "    .dataframe thead th {\n",
       "        text-align: right;\n",
       "    }\n",
       "</style>\n",
       "<table border=\"1\" class=\"dataframe\">\n",
       "  <thead>\n",
       "    <tr style=\"text-align: right;\">\n",
       "      <th></th>\n",
       "      <th>0</th>\n",
       "      <th>1</th>\n",
       "      <th>2</th>\n",
       "      <th>3</th>\n",
       "      <th>book_id</th>\n",
       "    </tr>\n",
       "  </thead>\n",
       "  <tbody>\n",
       "    <tr>\n",
       "      <th>0</th>\n",
       "      <td>0.0089853937</td>\n",
       "      <td>0.0000062913</td>\n",
       "      <td>0.9908112288</td>\n",
       "      <td>0.0001971286</td>\n",
       "      <td>3510</td>\n",
       "    </tr>\n",
       "    <tr>\n",
       "      <th>1</th>\n",
       "      <td>0.0018243644</td>\n",
       "      <td>0.0016274942</td>\n",
       "      <td>0.9724855423</td>\n",
       "      <td>0.0240624938</td>\n",
       "      <td>1586</td>\n",
       "    </tr>\n",
       "    <tr>\n",
       "      <th>2</th>\n",
       "      <td>0.9999997616</td>\n",
       "      <td>0.0000000006</td>\n",
       "      <td>0.0000000014</td>\n",
       "      <td>0.0000002288</td>\n",
       "      <td>1186</td>\n",
       "    </tr>\n",
       "    <tr>\n",
       "      <th>3</th>\n",
       "      <td>0.9999120235</td>\n",
       "      <td>0.0000067516</td>\n",
       "      <td>0.0000641578</td>\n",
       "      <td>0.0000169924</td>\n",
       "      <td>3671</td>\n",
       "    </tr>\n",
       "    <tr>\n",
       "      <th>4</th>\n",
       "      <td>0.0023943314</td>\n",
       "      <td>0.0305005666</td>\n",
       "      <td>0.8237366676</td>\n",
       "      <td>0.1433683485</td>\n",
       "      <td>3317</td>\n",
       "    </tr>\n",
       "  </tbody>\n",
       "</table>\n",
       "</div>"
      ],
      "text/plain": [
       "              0             1             2             3 book_id\n",
       "0  0.0089853937  0.0000062913  0.9908112288  0.0001971286    3510\n",
       "1  0.0018243644  0.0016274942  0.9724855423  0.0240624938    1586\n",
       "2  0.9999997616  0.0000000006  0.0000000014  0.0000002288    1186\n",
       "3  0.9999120235  0.0000067516  0.0000641578  0.0000169924    3671\n",
       "4  0.0023943314  0.0305005666  0.8237366676  0.1433683485    3317"
      ]
     },
     "execution_count": 23,
     "metadata": {},
     "output_type": "execute_result"
    }
   ],
   "source": [
    "df.head()"
   ]
  },
  {
   "cell_type": "code",
   "execution_count": 24,
   "metadata": {},
   "outputs": [],
   "source": [
    "df.to_csv('../../data/cat2-0_predict_result_2.csv')"
   ]
  },
  {
   "cell_type": "code",
   "execution_count": 25,
   "metadata": {},
   "outputs": [
    {
     "name": "stdout",
     "output_type": "stream",
     "text": [
      "['../../data/images/categorized-2/120/1542_61rFvK7GoBL.jpg', '../../data/images/categorized-2/120/3036_51VlfmLrH2L.jpg', '../../data/images/categorized-2/120/2293_51+q2nOat9L.jpg', '../../data/images/categorized-2/120/1776_61l0h94BYuL.jpg', '../../data/images/categorized-2/120/1166_5116tVSL5XL.jpg', '../../data/images/categorized-2/120/1561_61+Jlk17RBL.jpg', '../../data/images/categorized-2/120/2926_51YcWjIgotL.jpg', '../../data/images/categorized-2/120/2526_61pxxk4b3aL.jpg', '../../data/images/categorized-2/120/1516_61E+pfrQUPL.jpg', '../../data/images/categorized-2/120/1360_61qAlCK5MaL.jpg']\n",
      "2020-06-23T19:37:29.202475 Start\n",
      "2020-06-23T19:37:32.250316 End\n",
      "(439, 229, 229, 3)\n",
      "439\n",
      "2020-06-23T19:37:32.829364 Start\n",
      "2020-06-23T19:38:10.965567 End\n"
     ]
    },
    {
     "data": {
      "text/html": [
       "<div>\n",
       "<style scoped>\n",
       "    .dataframe tbody tr th:only-of-type {\n",
       "        vertical-align: middle;\n",
       "    }\n",
       "\n",
       "    .dataframe tbody tr th {\n",
       "        vertical-align: top;\n",
       "    }\n",
       "\n",
       "    .dataframe thead th {\n",
       "        text-align: right;\n",
       "    }\n",
       "</style>\n",
       "<table border=\"1\" class=\"dataframe\">\n",
       "  <thead>\n",
       "    <tr style=\"text-align: right;\">\n",
       "      <th></th>\n",
       "      <th>0</th>\n",
       "      <th>1</th>\n",
       "      <th>2</th>\n",
       "      <th>3</th>\n",
       "      <th>book_id</th>\n",
       "    </tr>\n",
       "  </thead>\n",
       "  <tbody>\n",
       "    <tr>\n",
       "      <th>0</th>\n",
       "      <td>0.0000168809</td>\n",
       "      <td>0.9997460246</td>\n",
       "      <td>0.0000004139</td>\n",
       "      <td>0.0002367397</td>\n",
       "      <td>1542</td>\n",
       "    </tr>\n",
       "    <tr>\n",
       "      <th>1</th>\n",
       "      <td>0.0607075803</td>\n",
       "      <td>0.9381796122</td>\n",
       "      <td>0.0008511520</td>\n",
       "      <td>0.0002616851</td>\n",
       "      <td>3036</td>\n",
       "    </tr>\n",
       "    <tr>\n",
       "      <th>2</th>\n",
       "      <td>0.1982094496</td>\n",
       "      <td>0.7749204040</td>\n",
       "      <td>0.0190721173</td>\n",
       "      <td>0.0077979434</td>\n",
       "      <td>2293</td>\n",
       "    </tr>\n",
       "    <tr>\n",
       "      <th>3</th>\n",
       "      <td>0.0005098631</td>\n",
       "      <td>0.9988854527</td>\n",
       "      <td>0.0001001678</td>\n",
       "      <td>0.0005045321</td>\n",
       "      <td>1776</td>\n",
       "    </tr>\n",
       "    <tr>\n",
       "      <th>4</th>\n",
       "      <td>0.6546356082</td>\n",
       "      <td>0.0003786710</td>\n",
       "      <td>0.0001533357</td>\n",
       "      <td>0.3448323607</td>\n",
       "      <td>1166</td>\n",
       "    </tr>\n",
       "  </tbody>\n",
       "</table>\n",
       "</div>"
      ],
      "text/plain": [
       "              0             1             2             3 book_id\n",
       "0  0.0000168809  0.9997460246  0.0000004139  0.0002367397    1542\n",
       "1  0.0607075803  0.9381796122  0.0008511520  0.0002616851    3036\n",
       "2  0.1982094496  0.7749204040  0.0190721173  0.0077979434    2293\n",
       "3  0.0005098631  0.9988854527  0.0001001678  0.0005045321    1776\n",
       "4  0.6546356082  0.0003786710  0.0001533357  0.3448323607    1166"
      ]
     },
     "execution_count": 25,
     "metadata": {},
     "output_type": "execute_result"
    }
   ],
   "source": [
    "img_paths = glob.glob(os.path.join(img_cat_paths[1], '*'))\n",
    "print(img_paths[:10])\n",
    "\n",
    "\n",
    "print(datetime.datetime.now().isoformat(), 'Start')\n",
    "\n",
    "book = []\n",
    "x = []\n",
    "\n",
    "for img_path in img_paths:\n",
    "    img = Image.open(img_path)\n",
    "    img_resize = img.resize((229, 229))\n",
    "    img_np = np.asarray(img_resize) / 255.0\n",
    "\n",
    "    x.append(img_np)\n",
    "    book.append(os.path.basename(img_path).split('_')[0])\n",
    "\n",
    "    \n",
    "print(datetime.datetime.now().isoformat(), 'End')\n",
    "\n",
    "x = np.array(x)\n",
    "print(x.shape)\n",
    "print(len(book))\n",
    "\n",
    "\n",
    "print(datetime.datetime.now().isoformat(), 'Start')\n",
    "\n",
    "y = model.predict(x)\n",
    "\n",
    "print(datetime.datetime.now().isoformat(), 'End')\n",
    "\n",
    "df = pd.DataFrame(y)\n",
    "df = df.join(pd.DataFrame(book, columns=['book_id']))\n",
    "df.head()"
   ]
  },
  {
   "cell_type": "code",
   "execution_count": 26,
   "metadata": {},
   "outputs": [],
   "source": [
    "df.to_csv('../../data/cat2-120_predict_result.csv')"
   ]
  },
  {
   "cell_type": "code",
   "execution_count": 27,
   "metadata": {},
   "outputs": [
    {
     "name": "stdout",
     "output_type": "stream",
     "text": [
      "['../../data/images/categorized-2/1/2069_51PSlfSvlpL.jpg', '../../data/images/categorized-2/1/1050_51VwzX-rjZL.jpg', '../../data/images/categorized-2/1/2765_51NP8cuAADL.jpg']\n",
      "2020-06-23T19:41:47.772983 Start\n",
      "2020-06-23T19:41:51.318268 End\n",
      "(496, 229, 229, 3)\n",
      "496\n",
      "2020-06-23T19:41:52.041983 Start\n",
      "2020-06-23T19:42:36.729964 End\n"
     ]
    },
    {
     "data": {
      "text/html": [
       "<div>\n",
       "<style scoped>\n",
       "    .dataframe tbody tr th:only-of-type {\n",
       "        vertical-align: middle;\n",
       "    }\n",
       "\n",
       "    .dataframe tbody tr th {\n",
       "        vertical-align: top;\n",
       "    }\n",
       "\n",
       "    .dataframe thead th {\n",
       "        text-align: right;\n",
       "    }\n",
       "</style>\n",
       "<table border=\"1\" class=\"dataframe\">\n",
       "  <thead>\n",
       "    <tr style=\"text-align: right;\">\n",
       "      <th></th>\n",
       "      <th>0</th>\n",
       "      <th>1</th>\n",
       "      <th>2</th>\n",
       "      <th>3</th>\n",
       "      <th>book_id</th>\n",
       "    </tr>\n",
       "  </thead>\n",
       "  <tbody>\n",
       "    <tr>\n",
       "      <th>0</th>\n",
       "      <td>0.1601600647</td>\n",
       "      <td>0.8063572645</td>\n",
       "      <td>0.0117670922</td>\n",
       "      <td>0.0217155330</td>\n",
       "      <td>2069</td>\n",
       "    </tr>\n",
       "    <tr>\n",
       "      <th>1</th>\n",
       "      <td>0.0000000038</td>\n",
       "      <td>0.9999997616</td>\n",
       "      <td>0.0000002424</td>\n",
       "      <td>0.0000000139</td>\n",
       "      <td>1050</td>\n",
       "    </tr>\n",
       "    <tr>\n",
       "      <th>2</th>\n",
       "      <td>0.0003648240</td>\n",
       "      <td>0.0000533393</td>\n",
       "      <td>0.9804465771</td>\n",
       "      <td>0.0191352479</td>\n",
       "      <td>2765</td>\n",
       "    </tr>\n",
       "    <tr>\n",
       "      <th>3</th>\n",
       "      <td>0.0000001231</td>\n",
       "      <td>0.9999992847</td>\n",
       "      <td>0.0000001587</td>\n",
       "      <td>0.0000004268</td>\n",
       "      <td>3020</td>\n",
       "    </tr>\n",
       "    <tr>\n",
       "      <th>4</th>\n",
       "      <td>0.0000532680</td>\n",
       "      <td>0.6635441780</td>\n",
       "      <td>0.0000003879</td>\n",
       "      <td>0.3364022076</td>\n",
       "      <td>1886</td>\n",
       "    </tr>\n",
       "  </tbody>\n",
       "</table>\n",
       "</div>"
      ],
      "text/plain": [
       "              0             1             2             3 book_id\n",
       "0  0.1601600647  0.8063572645  0.0117670922  0.0217155330    2069\n",
       "1  0.0000000038  0.9999997616  0.0000002424  0.0000000139    1050\n",
       "2  0.0003648240  0.0000533393  0.9804465771  0.0191352479    2765\n",
       "3  0.0000001231  0.9999992847  0.0000001587  0.0000004268    3020\n",
       "4  0.0000532680  0.6635441780  0.0000003879  0.3364022076    1886"
      ]
     },
     "execution_count": 27,
     "metadata": {},
     "output_type": "execute_result"
    }
   ],
   "source": [
    "img_paths = glob.glob(os.path.join(img_cat_paths[2], '*'))\n",
    "print(img_paths[:3])\n",
    "\n",
    "\n",
    "print(datetime.datetime.now().isoformat(), 'Start')\n",
    "\n",
    "book = []\n",
    "x = []\n",
    "\n",
    "for img_path in img_paths:\n",
    "    img = Image.open(img_path)\n",
    "    img_resize = img.resize((229, 229))\n",
    "    img_np = np.asarray(img_resize) / 255.0\n",
    "\n",
    "    x.append(img_np)\n",
    "    book.append(os.path.basename(img_path).split('_')[0])\n",
    "\n",
    "    \n",
    "print(datetime.datetime.now().isoformat(), 'End')\n",
    "\n",
    "x = np.array(x)\n",
    "print(x.shape)\n",
    "print(len(book))\n",
    "\n",
    "\n",
    "print(datetime.datetime.now().isoformat(), 'Start')\n",
    "\n",
    "y = model.predict(x)\n",
    "\n",
    "print(datetime.datetime.now().isoformat(), 'End')\n",
    "\n",
    "df = pd.DataFrame(y)\n",
    "df = df.join(pd.DataFrame(book, columns=['book_id']))\n",
    "\n",
    "df.to_csv('../../data/cat2-1_predict_result.csv')\n",
    "\n",
    "df.head()"
   ]
  },
  {
   "cell_type": "code",
   "execution_count": 28,
   "metadata": {},
   "outputs": [
    {
     "name": "stdout",
     "output_type": "stream",
     "text": [
      "['../../data/images/categorized-2/4/2265_619SPAvkdqL.jpg', '../../data/images/categorized-2/4/2356_51iKrbpvXdL.jpg', '../../data/images/categorized-2/4/1691_51CINE--oSL.jpg']\n",
      "2020-06-23T19:46:35.183375 Start\n",
      "2020-06-23T19:46:35.425104 End\n",
      "(27, 229, 229, 3)\n",
      "27\n",
      "2020-06-23T19:46:35.446388 Start\n",
      "2020-06-23T19:46:37.368456 End\n"
     ]
    },
    {
     "data": {
      "text/html": [
       "<div>\n",
       "<style scoped>\n",
       "    .dataframe tbody tr th:only-of-type {\n",
       "        vertical-align: middle;\n",
       "    }\n",
       "\n",
       "    .dataframe tbody tr th {\n",
       "        vertical-align: top;\n",
       "    }\n",
       "\n",
       "    .dataframe thead th {\n",
       "        text-align: right;\n",
       "    }\n",
       "</style>\n",
       "<table border=\"1\" class=\"dataframe\">\n",
       "  <thead>\n",
       "    <tr style=\"text-align: right;\">\n",
       "      <th></th>\n",
       "      <th>0</th>\n",
       "      <th>1</th>\n",
       "      <th>2</th>\n",
       "      <th>3</th>\n",
       "      <th>book_id</th>\n",
       "    </tr>\n",
       "  </thead>\n",
       "  <tbody>\n",
       "    <tr>\n",
       "      <th>0</th>\n",
       "      <td>0.0001918935</td>\n",
       "      <td>0.0000047054</td>\n",
       "      <td>0.9996205568</td>\n",
       "      <td>0.0001828192</td>\n",
       "      <td>2265</td>\n",
       "    </tr>\n",
       "    <tr>\n",
       "      <th>1</th>\n",
       "      <td>0.0000965025</td>\n",
       "      <td>0.9999034405</td>\n",
       "      <td>0.0000000066</td>\n",
       "      <td>0.0000000002</td>\n",
       "      <td>2356</td>\n",
       "    </tr>\n",
       "    <tr>\n",
       "      <th>2</th>\n",
       "      <td>0.0000000914</td>\n",
       "      <td>0.0000002604</td>\n",
       "      <td>0.9999996424</td>\n",
       "      <td>0.0000000139</td>\n",
       "      <td>1691</td>\n",
       "    </tr>\n",
       "    <tr>\n",
       "      <th>3</th>\n",
       "      <td>0.0000000311</td>\n",
       "      <td>0.9999997616</td>\n",
       "      <td>0.0000000254</td>\n",
       "      <td>0.0000002468</td>\n",
       "      <td>1704</td>\n",
       "    </tr>\n",
       "    <tr>\n",
       "      <th>4</th>\n",
       "      <td>0.0000018375</td>\n",
       "      <td>0.9999768734</td>\n",
       "      <td>0.0000213215</td>\n",
       "      <td>0.0000000161</td>\n",
       "      <td>3707</td>\n",
       "    </tr>\n",
       "  </tbody>\n",
       "</table>\n",
       "</div>"
      ],
      "text/plain": [
       "              0             1             2             3 book_id\n",
       "0  0.0001918935  0.0000047054  0.9996205568  0.0001828192    2265\n",
       "1  0.0000965025  0.9999034405  0.0000000066  0.0000000002    2356\n",
       "2  0.0000000914  0.0000002604  0.9999996424  0.0000000139    1691\n",
       "3  0.0000000311  0.9999997616  0.0000000254  0.0000002468    1704\n",
       "4  0.0000018375  0.9999768734  0.0000213215  0.0000000161    3707"
      ]
     },
     "execution_count": 28,
     "metadata": {},
     "output_type": "execute_result"
    }
   ],
   "source": [
    "img_paths = glob.glob(os.path.join(img_cat_paths[3], '*'))\n",
    "print(img_paths[:3])\n",
    "\n",
    "\n",
    "print(datetime.datetime.now().isoformat(), 'Start')\n",
    "\n",
    "book = []\n",
    "x = []\n",
    "\n",
    "for img_path in img_paths:\n",
    "    img = Image.open(img_path)\n",
    "    img_resize = img.resize((229, 229))\n",
    "    img_np = np.asarray(img_resize) / 255.0\n",
    "\n",
    "    x.append(img_np)\n",
    "    book.append(os.path.basename(img_path).split('_')[0])\n",
    "\n",
    "    \n",
    "print(datetime.datetime.now().isoformat(), 'End')\n",
    "\n",
    "x = np.array(x)\n",
    "print(x.shape)\n",
    "print(len(book))\n",
    "\n",
    "\n",
    "print(datetime.datetime.now().isoformat(), 'Start')\n",
    "\n",
    "y = model.predict(x)\n",
    "\n",
    "print(datetime.datetime.now().isoformat(), 'End')\n",
    "\n",
    "df = pd.DataFrame(y)\n",
    "df = df.join(pd.DataFrame(book, columns=['book_id']))\n",
    "\n",
    "df.to_csv('../../data/cat2-4_predict_result.csv')\n",
    "\n",
    "df.head()"
   ]
  },
  {
   "cell_type": "code",
   "execution_count": 30,
   "metadata": {},
   "outputs": [
    {
     "data": {
      "text/plain": [
       "'../../data/images/categorized-2/3'"
      ]
     },
     "execution_count": 30,
     "metadata": {},
     "output_type": "execute_result"
    }
   ],
   "source": [
    "os.path.join(img_cat_paths[4])"
   ]
  },
  {
   "cell_type": "code",
   "execution_count": 31,
   "metadata": {},
   "outputs": [
    {
     "name": "stdout",
     "output_type": "stream",
     "text": [
      "['../../data/images/categorized-2/3/1464_51uac+sVJLL.jpg', '../../data/images/categorized-2/3/3182_51FIO62UznL.jpg', '../../data/images/categorized-2/3/3110_51IK-CSP8PL.jpg']\n",
      "2020-06-23T19:48:13.379170 Start\n",
      "2020-06-23T19:48:14.179892 End\n",
      "(111, 229, 229, 3)\n",
      "111\n",
      "2020-06-23T19:48:14.271397 Start\n",
      "2020-06-23T19:48:22.526452 End\n"
     ]
    },
    {
     "data": {
      "text/html": [
       "<div>\n",
       "<style scoped>\n",
       "    .dataframe tbody tr th:only-of-type {\n",
       "        vertical-align: middle;\n",
       "    }\n",
       "\n",
       "    .dataframe tbody tr th {\n",
       "        vertical-align: top;\n",
       "    }\n",
       "\n",
       "    .dataframe thead th {\n",
       "        text-align: right;\n",
       "    }\n",
       "</style>\n",
       "<table border=\"1\" class=\"dataframe\">\n",
       "  <thead>\n",
       "    <tr style=\"text-align: right;\">\n",
       "      <th></th>\n",
       "      <th>0</th>\n",
       "      <th>1</th>\n",
       "      <th>2</th>\n",
       "      <th>3</th>\n",
       "      <th>book_id</th>\n",
       "    </tr>\n",
       "  </thead>\n",
       "  <tbody>\n",
       "    <tr>\n",
       "      <th>0</th>\n",
       "      <td>1.0891761937e-09</td>\n",
       "      <td>8.3540667717e-09</td>\n",
       "      <td>1.3287035472e-07</td>\n",
       "      <td>0.9999998808</td>\n",
       "      <td>1464</td>\n",
       "    </tr>\n",
       "    <tr>\n",
       "      <th>1</th>\n",
       "      <td>5.3803852040e-08</td>\n",
       "      <td>1.2549931094e-09</td>\n",
       "      <td>3.9708089594e-10</td>\n",
       "      <td>1.0000000000</td>\n",
       "      <td>3182</td>\n",
       "    </tr>\n",
       "    <tr>\n",
       "      <th>2</th>\n",
       "      <td>2.0572367421e-10</td>\n",
       "      <td>4.3171755060e-10</td>\n",
       "      <td>1.4530149306e-10</td>\n",
       "      <td>1.0000000000</td>\n",
       "      <td>3110</td>\n",
       "    </tr>\n",
       "    <tr>\n",
       "      <th>3</th>\n",
       "      <td>4.1535868078e-09</td>\n",
       "      <td>4.9455889384e-10</td>\n",
       "      <td>1.1268658540e-07</td>\n",
       "      <td>0.9999998808</td>\n",
       "      <td>3312</td>\n",
       "    </tr>\n",
       "    <tr>\n",
       "      <th>4</th>\n",
       "      <td>2.6883905258e-12</td>\n",
       "      <td>3.3059714688e-11</td>\n",
       "      <td>2.5366139744e-11</td>\n",
       "      <td>1.0000000000</td>\n",
       "      <td>2191</td>\n",
       "    </tr>\n",
       "  </tbody>\n",
       "</table>\n",
       "</div>"
      ],
      "text/plain": [
       "                  0                 1                 2             3 book_id\n",
       "0  1.0891761937e-09  8.3540667717e-09  1.3287035472e-07  0.9999998808    1464\n",
       "1  5.3803852040e-08  1.2549931094e-09  3.9708089594e-10  1.0000000000    3182\n",
       "2  2.0572367421e-10  4.3171755060e-10  1.4530149306e-10  1.0000000000    3110\n",
       "3  4.1535868078e-09  4.9455889384e-10  1.1268658540e-07  0.9999998808    3312\n",
       "4  2.6883905258e-12  3.3059714688e-11  2.5366139744e-11  1.0000000000    2191"
      ]
     },
     "execution_count": 31,
     "metadata": {},
     "output_type": "execute_result"
    }
   ],
   "source": [
    "img_paths = glob.glob(os.path.join(img_cat_paths[4], '*'))\n",
    "print(img_paths[:3])\n",
    "\n",
    "\n",
    "print(datetime.datetime.now().isoformat(), 'Start')\n",
    "\n",
    "book = []\n",
    "x = []\n",
    "\n",
    "for img_path in img_paths:\n",
    "    img = Image.open(img_path)\n",
    "    img_resize = img.resize((229, 229))\n",
    "    img_np = np.asarray(img_resize) / 255.0\n",
    "\n",
    "    x.append(img_np)\n",
    "    book.append(os.path.basename(img_path).split('_')[0])\n",
    "\n",
    "    \n",
    "print(datetime.datetime.now().isoformat(), 'End')\n",
    "\n",
    "x = np.array(x)\n",
    "print(x.shape)\n",
    "print(len(book))\n",
    "\n",
    "\n",
    "print(datetime.datetime.now().isoformat(), 'Start')\n",
    "\n",
    "y = model.predict(x)\n",
    "\n",
    "print(datetime.datetime.now().isoformat(), 'End')\n",
    "\n",
    "df = pd.DataFrame(y)\n",
    "df = df.join(pd.DataFrame(book, columns=['book_id']))\n",
    "\n",
    "df.to_csv('../../data/cat2-3_predict_result.csv')\n",
    "\n",
    "df.head()"
   ]
  },
  {
   "cell_type": "code",
   "execution_count": 32,
   "metadata": {},
   "outputs": [
    {
     "data": {
      "text/plain": [
       "'../../data/images/categorized-2/2'"
      ]
     },
     "execution_count": 32,
     "metadata": {},
     "output_type": "execute_result"
    }
   ],
   "source": [
    "os.path.join(img_cat_paths[5])"
   ]
  },
  {
   "cell_type": "code",
   "execution_count": 33,
   "metadata": {},
   "outputs": [
    {
     "name": "stdout",
     "output_type": "stream",
     "text": [
      "['../../data/images/categorized-2/2/3161_51jedCRU18L.jpg', '../../data/images/categorized-2/2/2617_615KSpMZblL.jpg', '../../data/images/categorized-2/2/2409_61FnLs9aVDL.jpg']\n",
      "2020-06-23T19:49:12.979132 Start\n",
      "2020-06-23T19:49:13.933853 End\n",
      "(132, 229, 229, 3)\n",
      "132\n",
      "2020-06-23T19:49:14.044185 Start\n",
      "2020-06-23T19:49:23.845580 End\n"
     ]
    },
    {
     "data": {
      "text/html": [
       "<div>\n",
       "<style scoped>\n",
       "    .dataframe tbody tr th:only-of-type {\n",
       "        vertical-align: middle;\n",
       "    }\n",
       "\n",
       "    .dataframe tbody tr th {\n",
       "        vertical-align: top;\n",
       "    }\n",
       "\n",
       "    .dataframe thead th {\n",
       "        text-align: right;\n",
       "    }\n",
       "</style>\n",
       "<table border=\"1\" class=\"dataframe\">\n",
       "  <thead>\n",
       "    <tr style=\"text-align: right;\">\n",
       "      <th></th>\n",
       "      <th>0</th>\n",
       "      <th>1</th>\n",
       "      <th>2</th>\n",
       "      <th>3</th>\n",
       "      <th>book_id</th>\n",
       "    </tr>\n",
       "  </thead>\n",
       "  <tbody>\n",
       "    <tr>\n",
       "      <th>0</th>\n",
       "      <td>2.6130981823e-08</td>\n",
       "      <td>2.2737962624e-08</td>\n",
       "      <td>0.9999998808</td>\n",
       "      <td>0.0000000755</td>\n",
       "      <td>3161</td>\n",
       "    </tr>\n",
       "    <tr>\n",
       "      <th>1</th>\n",
       "      <td>4.3539095398e-13</td>\n",
       "      <td>1.1684609877e-11</td>\n",
       "      <td>1.0000000000</td>\n",
       "      <td>0.0000000001</td>\n",
       "      <td>2617</td>\n",
       "    </tr>\n",
       "    <tr>\n",
       "      <th>2</th>\n",
       "      <td>2.3020022581e-06</td>\n",
       "      <td>1.3009464617e-08</td>\n",
       "      <td>0.9999945164</td>\n",
       "      <td>0.0000032480</td>\n",
       "      <td>2409</td>\n",
       "    </tr>\n",
       "    <tr>\n",
       "      <th>3</th>\n",
       "      <td>1.7717728396e-09</td>\n",
       "      <td>9.6816643591e-10</td>\n",
       "      <td>1.0000000000</td>\n",
       "      <td>0.0000000461</td>\n",
       "      <td>1564</td>\n",
       "    </tr>\n",
       "    <tr>\n",
       "      <th>4</th>\n",
       "      <td>2.7234500521e-07</td>\n",
       "      <td>4.0093578235e-08</td>\n",
       "      <td>0.9999995232</td>\n",
       "      <td>0.0000000601</td>\n",
       "      <td>3601</td>\n",
       "    </tr>\n",
       "  </tbody>\n",
       "</table>\n",
       "</div>"
      ],
      "text/plain": [
       "                  0                 1             2             3 book_id\n",
       "0  2.6130981823e-08  2.2737962624e-08  0.9999998808  0.0000000755    3161\n",
       "1  4.3539095398e-13  1.1684609877e-11  1.0000000000  0.0000000001    2617\n",
       "2  2.3020022581e-06  1.3009464617e-08  0.9999945164  0.0000032480    2409\n",
       "3  1.7717728396e-09  9.6816643591e-10  1.0000000000  0.0000000461    1564\n",
       "4  2.7234500521e-07  4.0093578235e-08  0.9999995232  0.0000000601    3601"
      ]
     },
     "execution_count": 33,
     "metadata": {},
     "output_type": "execute_result"
    }
   ],
   "source": [
    "img_paths = glob.glob(os.path.join(img_cat_paths[5], '*'))\n",
    "print(img_paths[:3])\n",
    "\n",
    "\n",
    "print(datetime.datetime.now().isoformat(), 'Start')\n",
    "\n",
    "book = []\n",
    "x = []\n",
    "\n",
    "for img_path in img_paths:\n",
    "    img = Image.open(img_path)\n",
    "    img_resize = img.resize((229, 229))\n",
    "    img_np = np.asarray(img_resize) / 255.0\n",
    "\n",
    "    x.append(img_np)\n",
    "    book.append(os.path.basename(img_path).split('_')[0])\n",
    "\n",
    "    \n",
    "print(datetime.datetime.now().isoformat(), 'End')\n",
    "\n",
    "x = np.array(x)\n",
    "print(x.shape)\n",
    "print(len(book))\n",
    "\n",
    "\n",
    "print(datetime.datetime.now().isoformat(), 'Start')\n",
    "\n",
    "y = model.predict(x)\n",
    "\n",
    "print(datetime.datetime.now().isoformat(), 'End')\n",
    "\n",
    "df = pd.DataFrame(y)\n",
    "df = df.join(pd.DataFrame(book, columns=['book_id']))\n",
    "\n",
    "df.to_csv('../../data/cat2-2_predict_result.csv')\n",
    "\n",
    "df.head()"
   ]
  },
  {
   "cell_type": "code",
   "execution_count": null,
   "metadata": {},
   "outputs": [],
   "source": []
  }
 ],
 "metadata": {
  "kernelspec": {
   "display_name": "Python 3",
   "language": "python",
   "name": "python3"
  },
  "language_info": {
   "codemirror_mode": {
    "name": "ipython",
    "version": 3
   },
   "file_extension": ".py",
   "mimetype": "text/x-python",
   "name": "python",
   "nbconvert_exporter": "python",
   "pygments_lexer": "ipython3",
   "version": "3.7.4"
  }
 },
 "nbformat": 4,
 "nbformat_minor": 4
}
